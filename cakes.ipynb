{
 "cells": [
  {
   "cell_type": "code",
   "execution_count": 10,
   "metadata": {},
   "outputs": [
    {
     "name": "stdout",
     "output_type": "stream",
     "text": [
      "P: Cupcake        A: Cupcake\n",
      "P: Cupcake        A: Cupcake\n",
      "P: Muffin        A: Muffin\n",
      "P: Scone        A: Scone\n",
      "P: Cupcake        A: Cupcake\n",
      "P: Scone        A: Scone\n",
      "P: Muffin        A: Muffin\n",
      "P: Muffin        A: Muffin\n",
      "P: Muffin        A: Muffin\n",
      "P: Cupcake        A: Cupcake\n",
      "P: Cupcake        A: Cupcake\n",
      "P: Muffin        A: Muffin\n",
      "P: Cupcake        A: Cupcake\n",
      "P: Muffin        A: Muffin\n",
      "P: Muffin        A: Muffin\n"
     ]
    }
   ],
   "source": [
    "import pandas\n",
    "from sklearn import model_selection\n",
    "from sklearn.tree import DecisionTreeClassifier\n",
    "from sklearn.metrics import accuracy_score\n",
    "\n",
    "df = pandas.read_csv(\"cakes.csv\")\n",
    "array = df.values\n",
    "X = array[:, 0:8]\n",
    "y = array[:, 8]\n",
    "X_train, X_test,y_train, y_test = model_selection.train_test_split(X, y, test_size= 0.30, random_state= 42 )\n",
    "my_model = DecisionTreeClassifier()\n",
    "my_model.fit(X_train, y_train)\n",
    "predictions = my_model.predict(X_test)\n",
    "for r in range(len(predictions)):\n",
    "    print(\"P:\",predictions[r], \"       A:\", y_test[r])\n"
   ]
  },
  {
   "cell_type": "code",
   "execution_count": 11,
   "metadata": {},
   "outputs": [
    {
     "name": "stdout",
     "output_type": "stream",
     "text": [
      "Accuracy  1.0\n"
     ]
    }
   ],
   "source": [
    "print ('Accuracy ', accuracy_score(y_test, predictions))"
   ]
  },
  {
   "cell_type": "code",
   "execution_count": 14,
   "metadata": {},
   "outputs": [
    {
     "name": "stdout",
     "output_type": "stream",
     "text": [
      "You will be baking a  ['Scone']\n"
     ]
    }
   ],
   "source": [
    "recipe = [[20,  5,  25, 5,  3   ,10 ,0, 5   ]]\n",
    "outcome = my_model.predict(recipe)\n",
    "print('You will be baking a ', outcome)"
   ]
  }
 ],
 "metadata": {
  "kernelspec": {
   "display_name": "env",
   "language": "python",
   "name": "python3"
  },
  "language_info": {
   "name": "python",
   "version": "3.11.2"
  },
  "orig_nbformat": 4
 },
 "nbformat": 4,
 "nbformat_minor": 2
}
